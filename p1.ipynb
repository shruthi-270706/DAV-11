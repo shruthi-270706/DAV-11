{
  "nbformat": 4,
  "nbformat_minor": 0,
  "metadata": {
    "colab": {
      "provenance": [],
      "authorship_tag": "ABX9TyOKJKn2GcomnnEaZBm1SCgw",
      "include_colab_link": true
    },
    "kernelspec": {
      "name": "python3",
      "display_name": "Python 3"
    },
    "language_info": {
      "name": "python"
    }
  },
  "cells": [
    {
      "cell_type": "markdown",
      "metadata": {
        "id": "view-in-github",
        "colab_type": "text"
      },
      "source": [
        "<a href=\"https://colab.research.google.com/github/shruthi-270706/DAV-11/blob/main/p1.ipynb\" target=\"_parent\"><img src=\"https://colab.research.google.com/assets/colab-badge.svg\" alt=\"Open In Colab\"/></a>"
      ]
    },
    {
      "cell_type": "code",
      "execution_count": 3,
      "metadata": {
        "colab": {
          "base_uri": "https://localhost:8080/"
        },
        "id": "NOE9eWt1_KQ0",
        "outputId": "a079461d-a91c-413e-bf92-a1bdd609a7aa"
      },
      "outputs": [
        {
          "output_type": "stream",
          "name": "stdout",
          "text": [
            "[1, 2, 3, 4, 5]\n",
            "(6, 7, 8, 9)\n",
            "[6, 7, 8, 9]\n",
            "[1, 2, 3, 4, 5, 6, 7, 8, 9]\n"
          ]
        }
      ],
      "source": [
        "import numpy as np\n",
        "list1=[1,2,3,4,5]\n",
        "print(list1)\n",
        "array1=(6,7,8,9)\n",
        "print(array1)\n",
        "list2=list(array1)\n",
        "print(list2)\n",
        "sum=list1+list2\n",
        "print(sum)\n"
      ]
    },
    {
      "cell_type": "code",
      "source": [
        "import pandas as pd\n",
        "data={\n",
        "    'Name':['Vishnu', 'krishna', 'Parvati','Bramha','sita','Shiv','Radha'],\n",
        "    'Age':[23,56,61,29,38,18,27],\n",
        "    'Gender':['M','M','F','M','F','M','F'],\n",
        "    'Htno':['2403A52298','2403A52299','2403A52300','2403A52301','2403A52302','2403A52303','2403A52304'],\n",
        "    'Course':['CSE','Bsc','Pharmacy','EEE','Civil','Mechanical','MBBS'],\n",
        "    'Address':['Vaikunt','Vrindhavan','Kanchipuram','Brahmalok','Janakpur','Kedarnath','Barsana'],\n",
        "}\n",
        "df=pd.DataFrame(data)\n",
        "print(df)"
      ],
      "metadata": {
        "colab": {
          "base_uri": "https://localhost:8080/"
        },
        "id": "ry8aHo08AZfs",
        "outputId": "d522bbf3-6e66-41c4-eea3-212e61550acf"
      },
      "execution_count": 15,
      "outputs": [
        {
          "output_type": "stream",
          "name": "stdout",
          "text": [
            "      Name  Age Gender        Htno      Course      Address\n",
            "0   Vishnu   23      M  2403A52298         CSE      Vaikunt\n",
            "1  krishna   56      M  2403A52299         Bsc   Vrindhavan\n",
            "2  Parvati   61      F  2403A52300    Pharmacy  Kanchipuram\n",
            "3   Bramha   29      M  2403A52301         EEE    Brahmalok\n",
            "4     sita   38      F  2403A52302       Civil     Janakpur\n",
            "5     Shiv   18      M  2403A52303  Mechanical    Kedarnath\n",
            "6    Radha   27      F  2403A52304        MBBS      Barsana\n"
          ]
        }
      ]
    }
  ]
}