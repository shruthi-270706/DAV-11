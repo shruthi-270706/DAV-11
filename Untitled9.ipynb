{
  "nbformat": 4,
  "nbformat_minor": 0,
  "metadata": {
    "colab": {
      "provenance": [],
      "authorship_tag": "ABX9TyOhtjp70cRY89asS4HEqC/c",
      "include_colab_link": true
    },
    "kernelspec": {
      "name": "python3",
      "display_name": "Python 3"
    },
    "language_info": {
      "name": "python"
    }
  },
  "cells": [
    {
      "cell_type": "markdown",
      "metadata": {
        "id": "view-in-github",
        "colab_type": "text"
      },
      "source": [
        "<a href=\"https://colab.research.google.com/github/shruthi-uligonda/DAV-11/blob/main/Untitled9.ipynb\" target=\"_parent\"><img src=\"https://colab.research.google.com/assets/colab-badge.svg\" alt=\"Open In Colab\"/></a>"
      ]
    },
    {
      "cell_type": "code",
      "execution_count": 14,
      "metadata": {
        "id": "PnNgUCoD_91j"
      },
      "outputs": [],
      "source": [
        "import pandas as pd"
      ]
    },
    {
      "cell_type": "code",
      "source": [
        "list=[1,2,\"Radha\",8,9,\"krishna\"]\n",
        "print(list)"
      ],
      "metadata": {
        "colab": {
          "base_uri": "https://localhost:8080/"
        },
        "id": "0w0MD56vCQTr",
        "outputId": "6c6ee5c6-8945-476b-c49d-e86c4025cb6a"
      },
      "execution_count": 15,
      "outputs": [
        {
          "output_type": "stream",
          "name": "stdout",
          "text": [
            "[1, 2, 'Radha', 8, 9, 'krishna']\n"
          ]
        }
      ]
    },
    {
      "cell_type": "code",
      "source": [
        "Tuple=(1,2,\"Radha\",8,9,\"krishna\")\n",
        "print(Tuple)"
      ],
      "metadata": {
        "colab": {
          "base_uri": "https://localhost:8080/"
        },
        "id": "X6DqXRApCi75",
        "outputId": "a469f9f8-ca61-41b0-fac2-62b6e0c71ddc"
      },
      "execution_count": 16,
      "outputs": [
        {
          "output_type": "stream",
          "name": "stdout",
          "text": [
            "(1, 2, 'Radha', 8, 9, 'krishna')\n"
          ]
        }
      ]
    },
    {
      "cell_type": "code",
      "source": [
        "dictionary={\"Name\":\"Radha\",\"Age\":20,\"city\":\"Mathura\"}\n",
        "print(dictionary)"
      ],
      "metadata": {
        "colab": {
          "base_uri": "https://localhost:8080/"
        },
        "id": "wXdwwaFaCk5a",
        "outputId": "e826e852-b2ac-4047-b842-5a6c7cf84434"
      },
      "execution_count": 17,
      "outputs": [
        {
          "output_type": "stream",
          "name": "stdout",
          "text": [
            "{'Name': 'Radha', 'Age': 20, 'city': 'Mathura'}\n"
          ]
        }
      ]
    },
    {
      "cell_type": "code",
      "source": [
        "data={\"Name\":[\"Radha\",\"Krishna\",\"Shiv\",\"Pravati\"],\n",
        "      \"Age\":[19,12,23,20],\n",
        "      \"City\":[\"Mathura\",\"Gokul\",\"Kedarnath\",\"Amarnath\"]}\n",
        "print(data)\n",
        "df1= pd.DataFrame(data)\n",
        "print(df1)\n",
        "df1.to_csv('input.csv')"
      ],
      "metadata": {
        "colab": {
          "base_uri": "https://localhost:8080/"
        },
        "id": "D3R1GEs-CqiG",
        "outputId": "d84b3d59-c70f-4c84-d27f-07c94a2e687d"
      },
      "execution_count": 40,
      "outputs": [
        {
          "output_type": "stream",
          "name": "stdout",
          "text": [
            "{'Name': ['Radha', 'Krishna', 'Shiv', 'Pravati'], 'Age': [19, 12, 23, 20], 'City': ['Mathura', 'Gokul', 'Kedarnath', 'Amarnath']}\n",
            "      Name  Age       City\n",
            "0    Radha   19    Mathura\n",
            "1  Krishna   12      Gokul\n",
            "2     Shiv   23  Kedarnath\n",
            "3  Pravati   20   Amarnath\n"
          ]
        }
      ]
    },
    {
      "cell_type": "code",
      "source": [
        "data1={\"Cinema\":[\"Varudu Kavalenu\",\"Fidaa\",\"Alavaikuntapuramlo\",\"Singham\"],\n",
        "       \"Hero\":[\"Naga Shourya\",\"Varun\",\"Allu Arjun\",\"Surya\"],\n",
        "       \"Heroin\":[\"Ritu Varma\",\"Sai Pallavi\",\"Pooja Hegde\",\"Anushka\"]}\n",
        "df2=pd.DataFrame(data1)\n",
        "print(df2)\n",
        "df2.to_csv(\"input.csv\")"
      ],
      "metadata": {
        "colab": {
          "base_uri": "https://localhost:8080/"
        },
        "id": "h3U3nWFrG5t1",
        "outputId": "d9a1defa-45f0-4a2a-9d40-497f7cf44367"
      },
      "execution_count": 33,
      "outputs": [
        {
          "output_type": "stream",
          "name": "stdout",
          "text": [
            "               Cinema          Hero       Heroin\n",
            "0     Varudu Kavalenu  Naga Shourya   Ritu Varma\n",
            "1               Fidaa         Varun  Sai Pallavi\n",
            "2  Alavaikuntapuramlo    Allu Arjun  Pooja Hegde\n",
            "3             Singham         Surya      Anushka\n"
          ]
        }
      ]
    },
    {
      "cell_type": "code",
      "source": [
        "merge_df = pd.concat([df1, df2], axis=1)\n",
        "print(merge_df)"
      ],
      "metadata": {
        "colab": {
          "base_uri": "https://localhost:8080/"
        },
        "id": "CvTdaj3zJhmH",
        "outputId": "4e78ceb6-a6ac-40d7-b7b6-3af19fe02a93"
      },
      "execution_count": 41,
      "outputs": [
        {
          "output_type": "stream",
          "name": "stdout",
          "text": [
            "      Name  Age       City              Cinema          Hero       Heroin\n",
            "0    Radha   19    Mathura     Varudu Kavalenu  Naga Shourya   Ritu Varma\n",
            "1  Krishna   12      Gokul               Fidaa         Varun  Sai Pallavi\n",
            "2     Shiv   23  Kedarnath  Alavaikuntapuramlo    Allu Arjun  Pooja Hegde\n",
            "3  Pravati   20   Amarnath             Singham         Surya      Anushka\n"
          ]
        }
      ]
    }
  ]
}